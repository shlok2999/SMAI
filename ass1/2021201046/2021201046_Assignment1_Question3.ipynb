{
  "cells": [
    {
      "cell_type": "markdown",
      "metadata": {
        "id": "02c54141"
      },
      "source": [
        "## Spam Email Classifier with KNN using TF-IDF scores"
      ],
      "id": "02c54141"
    },
    {
      "cell_type": "markdown",
      "metadata": {
        "id": "1c17102e"
      },
      "source": [
        "1.   Assignment must be implemented in Python 3 only.\n",
        "2.   You are allowed to use libraries for data preprocessing (numpy, pandas, nltk etc) and for evaluation metrics, data visualization (matplotlib etc.).\n",
        "3.   You will be evaluated not just on the overall performance of the model and also on the experimentation with hyper parameters, data prepossessing techniques etc.\n",
        "4.   The report file must be a well documented jupyter notebook, explaining the experiments you have performed, evaluation metrics and corresponding code. The code must run and be able to reproduce the accuracies, figures/graphs etc.\n",
        "5.   For all the questions, you must create a train-validation data split and test the hyperparameter tuning on the validation set. Your jupyter notebook must reflect the same.\n",
        "6.   Strict plagiarism checking will be done. An F will be awarded for plagiarism."
      ],
      "id": "1c17102e"
    },
    {
      "cell_type": "markdown",
      "metadata": {
        "id": "0d34a310"
      },
      "source": [
        "**Task: Given an email, classify it as spam or ham**\n",
        "\n",
        "Given input text file (\"emails.txt\") containing 5572 email messages, with each row having its corresponding label (spam/ham) attached to it.\n",
        "\n",
        "This task also requires basic pre-processing of text (like removing stopwords, stemming/lemmatizing, replacing email_address with 'email-tag', etc..).\n",
        "\n",
        "You are required to find the tf-idf scores for the given data and use them to perform KNN using Cosine Similarity."
      ],
      "id": "0d34a310"
    },
    {
      "cell_type": "markdown",
      "metadata": {
        "id": "b0c87696"
      },
      "source": [
        "### Import necessary libraries"
      ],
      "id": "b0c87696"
    },
    {
      "cell_type": "code",
      "execution_count": null,
      "metadata": {
        "id": "3d5a1fe2"
      },
      "outputs": [],
      "source": [
        "import pandas as pd\n",
        "import numpy as np\n",
        "from nltk.stem import PorterStemmer\n",
        "from nltk.corpus import stopwords\n",
        "from nltk.tokenize import word_tokenize\n",
        "import string\n",
        "import math\n",
        "from sklearn.feature_extraction.text import TfidfVectorizer\n",
        "import numpy.linalg as LA\n",
        "import matplotlib.pyplot as plt\n",
        "from sklearn.metrics import confusion_matrix\n",
        "from scipy.spatial import distance"
      ],
      "id": "3d5a1fe2"
    },
    {
      "cell_type": "code",
      "execution_count": null,
      "metadata": {
        "colab": {
          "base_uri": "https://localhost:8080/"
        },
        "id": "5EIZ5w-IZsj5",
        "outputId": "4b4634fd-b603-430a-b218-82477867109d"
      },
      "outputs": [
        {
          "output_type": "stream",
          "name": "stdout",
          "text": [
            "[nltk_data] Downloading package punkt to /root/nltk_data...\n",
            "[nltk_data]   Package punkt is already up-to-date!\n",
            "[nltk_data] Downloading package stopwords to /root/nltk_data...\n",
            "[nltk_data]   Package stopwords is already up-to-date!\n"
          ]
        },
        {
          "output_type": "execute_result",
          "data": {
            "text/plain": [
              "True"
            ]
          },
          "metadata": {},
          "execution_count": 5
        }
      ],
      "source": [
        "import nltk\n",
        "nltk.download('punkt')\n",
        "nltk.download('stopwords')\n"
      ],
      "id": "5EIZ5w-IZsj5"
    },
    {
      "cell_type": "markdown",
      "metadata": {
        "id": "7aef4dff"
      },
      "source": [
        "### Load dataset"
      ],
      "id": "7aef4dff"
    },
    {
      "cell_type": "code",
      "execution_count": null,
      "metadata": {
        "colab": {
          "base_uri": "https://localhost:8080/",
          "height": 206
        },
        "id": "f178f892",
        "outputId": "643e2aa6-1bd3-44aa-ec0b-da4622b07313"
      },
      "outputs": [
        {
          "output_type": "execute_result",
          "data": {
            "text/html": [
              "\n",
              "  <div id=\"df-c7276d33-a748-40e7-95ff-22e0fd17abb3\">\n",
              "    <div class=\"colab-df-container\">\n",
              "      <div>\n",
              "<style scoped>\n",
              "    .dataframe tbody tr th:only-of-type {\n",
              "        vertical-align: middle;\n",
              "    }\n",
              "\n",
              "    .dataframe tbody tr th {\n",
              "        vertical-align: top;\n",
              "    }\n",
              "\n",
              "    .dataframe thead th {\n",
              "        text-align: right;\n",
              "    }\n",
              "</style>\n",
              "<table border=\"1\" class=\"dataframe\">\n",
              "  <thead>\n",
              "    <tr style=\"text-align: right;\">\n",
              "      <th></th>\n",
              "      <th>label</th>\n",
              "      <th>message</th>\n",
              "    </tr>\n",
              "  </thead>\n",
              "  <tbody>\n",
              "    <tr>\n",
              "      <th>0</th>\n",
              "      <td>ham</td>\n",
              "      <td>Go until jurong point, crazy.. Available only ...</td>\n",
              "    </tr>\n",
              "    <tr>\n",
              "      <th>1</th>\n",
              "      <td>ham</td>\n",
              "      <td>Ok lar... Joking wif u oni...</td>\n",
              "    </tr>\n",
              "    <tr>\n",
              "      <th>2</th>\n",
              "      <td>spam</td>\n",
              "      <td>Free entry in 2 a wkly comp to win FA Cup fina...</td>\n",
              "    </tr>\n",
              "    <tr>\n",
              "      <th>3</th>\n",
              "      <td>ham</td>\n",
              "      <td>U dun say so early hor... U c already then say...</td>\n",
              "    </tr>\n",
              "    <tr>\n",
              "      <th>4</th>\n",
              "      <td>ham</td>\n",
              "      <td>Nah I don't think he goes to usf, he lives aro...</td>\n",
              "    </tr>\n",
              "  </tbody>\n",
              "</table>\n",
              "</div>\n",
              "      <button class=\"colab-df-convert\" onclick=\"convertToInteractive('df-c7276d33-a748-40e7-95ff-22e0fd17abb3')\"\n",
              "              title=\"Convert this dataframe to an interactive table.\"\n",
              "              style=\"display:none;\">\n",
              "        \n",
              "  <svg xmlns=\"http://www.w3.org/2000/svg\" height=\"24px\"viewBox=\"0 0 24 24\"\n",
              "       width=\"24px\">\n",
              "    <path d=\"M0 0h24v24H0V0z\" fill=\"none\"/>\n",
              "    <path d=\"M18.56 5.44l.94 2.06.94-2.06 2.06-.94-2.06-.94-.94-2.06-.94 2.06-2.06.94zm-11 1L8.5 8.5l.94-2.06 2.06-.94-2.06-.94L8.5 2.5l-.94 2.06-2.06.94zm10 10l.94 2.06.94-2.06 2.06-.94-2.06-.94-.94-2.06-.94 2.06-2.06.94z\"/><path d=\"M17.41 7.96l-1.37-1.37c-.4-.4-.92-.59-1.43-.59-.52 0-1.04.2-1.43.59L10.3 9.45l-7.72 7.72c-.78.78-.78 2.05 0 2.83L4 21.41c.39.39.9.59 1.41.59.51 0 1.02-.2 1.41-.59l7.78-7.78 2.81-2.81c.8-.78.8-2.07 0-2.86zM5.41 20L4 18.59l7.72-7.72 1.47 1.35L5.41 20z\"/>\n",
              "  </svg>\n",
              "      </button>\n",
              "      \n",
              "  <style>\n",
              "    .colab-df-container {\n",
              "      display:flex;\n",
              "      flex-wrap:wrap;\n",
              "      gap: 12px;\n",
              "    }\n",
              "\n",
              "    .colab-df-convert {\n",
              "      background-color: #E8F0FE;\n",
              "      border: none;\n",
              "      border-radius: 50%;\n",
              "      cursor: pointer;\n",
              "      display: none;\n",
              "      fill: #1967D2;\n",
              "      height: 32px;\n",
              "      padding: 0 0 0 0;\n",
              "      width: 32px;\n",
              "    }\n",
              "\n",
              "    .colab-df-convert:hover {\n",
              "      background-color: #E2EBFA;\n",
              "      box-shadow: 0px 1px 2px rgba(60, 64, 67, 0.3), 0px 1px 3px 1px rgba(60, 64, 67, 0.15);\n",
              "      fill: #174EA6;\n",
              "    }\n",
              "\n",
              "    [theme=dark] .colab-df-convert {\n",
              "      background-color: #3B4455;\n",
              "      fill: #D2E3FC;\n",
              "    }\n",
              "\n",
              "    [theme=dark] .colab-df-convert:hover {\n",
              "      background-color: #434B5C;\n",
              "      box-shadow: 0px 1px 3px 1px rgba(0, 0, 0, 0.15);\n",
              "      filter: drop-shadow(0px 1px 2px rgba(0, 0, 0, 0.3));\n",
              "      fill: #FFFFFF;\n",
              "    }\n",
              "  </style>\n",
              "\n",
              "      <script>\n",
              "        const buttonEl =\n",
              "          document.querySelector('#df-c7276d33-a748-40e7-95ff-22e0fd17abb3 button.colab-df-convert');\n",
              "        buttonEl.style.display =\n",
              "          google.colab.kernel.accessAllowed ? 'block' : 'none';\n",
              "\n",
              "        async function convertToInteractive(key) {\n",
              "          const element = document.querySelector('#df-c7276d33-a748-40e7-95ff-22e0fd17abb3');\n",
              "          const dataTable =\n",
              "            await google.colab.kernel.invokeFunction('convertToInteractive',\n",
              "                                                     [key], {});\n",
              "          if (!dataTable) return;\n",
              "\n",
              "          const docLinkHtml = 'Like what you see? Visit the ' +\n",
              "            '<a target=\"_blank\" href=https://colab.research.google.com/notebooks/data_table.ipynb>data table notebook</a>'\n",
              "            + ' to learn more about interactive tables.';\n",
              "          element.innerHTML = '';\n",
              "          dataTable['output_type'] = 'display_data';\n",
              "          await google.colab.output.renderOutput(dataTable, element);\n",
              "          const docLink = document.createElement('div');\n",
              "          docLink.innerHTML = docLinkHtml;\n",
              "          element.appendChild(docLink);\n",
              "        }\n",
              "      </script>\n",
              "    </div>\n",
              "  </div>\n",
              "  "
            ],
            "text/plain": [
              "  label                                            message\n",
              "0   ham  Go until jurong point, crazy.. Available only ...\n",
              "1   ham                      Ok lar... Joking wif u oni...\n",
              "2  spam  Free entry in 2 a wkly comp to win FA Cup fina...\n",
              "3   ham  U dun say so early hor... U c already then say...\n",
              "4   ham  Nah I don't think he goes to usf, he lives aro..."
            ]
          },
          "metadata": {},
          "execution_count": 6
        }
      ],
      "source": [
        "df=pd.read_csv(\"emails.txt\", sep='\\t',names=[\"label\",\"message\"])\n",
        "# df.rename(columns={0: \"a\", 1: \"c\"}\n",
        "# df.set_index(\"label\", inplace = True)\n",
        "df.head()"
      ],
      "id": "f178f892"
    },
    {
      "cell_type": "markdown",
      "metadata": {
        "id": "1vv1da77jpf6"
      },
      "source": [
        "###Global Variables "
      ],
      "id": "1vv1da77jpf6"
    },
    {
      "cell_type": "code",
      "execution_count": null,
      "metadata": {
        "id": "IZo3tlxHRtOY"
      },
      "outputs": [],
      "source": [
        "stemmer=PorterStemmer()\n",
        "stop=set(stopwords.words('english'))\n",
        "translator = str.maketrans('', '', string.punctuation)\n",
        "docfreq=dict()\n",
        "idf=dict()\n",
        "index=dict()\n",
        "model=dict()\n",
        "label=dict()\n",
        "total_words=0"
      ],
      "id": "IZo3tlxHRtOY"
    },
    {
      "cell_type": "markdown",
      "metadata": {
        "id": "cd1ef5ba"
      },
      "source": [
        "### Preprocess data"
      ],
      "id": "cd1ef5ba"
    },
    {
      "cell_type": "code",
      "execution_count": null,
      "metadata": {
        "id": "1jLlIKR_KHzy"
      },
      "outputs": [],
      "source": [
        "def clean(message):\n",
        "  message=message.lower().translate(translator)\n",
        "  words=word_tokenize(message)\n",
        "  words=[x for x in words if not x.isnumeric()] #removing numbers\n",
        "  words=[x for x in words if x not in stop]\n",
        "  # print(words)\n",
        "  tokens=list()\n",
        "  \n",
        "  # for word in words:\n",
        "  #   tokens.append(stemmer.stem(word))\n",
        "  tokens=[stemmer.stem(word) for word in words]\n",
        "\n",
        "  return ' '.join(tokens)\n",
        "  # print(tokens)\n",
        "\n",
        "\n",
        "\n",
        "# clean(\"123 hello I am running\")"
      ],
      "id": "1jLlIKR_KHzy"
    },
    {
      "cell_type": "code",
      "execution_count": null,
      "metadata": {
        "colab": {
          "base_uri": "https://localhost:8080/"
        },
        "id": "fd1733d7",
        "outputId": "ece4d98d-24d1-4253-a71f-54906a9f0ee1"
      },
      "outputs": [
        {
          "output_type": "execute_result",
          "data": {
            "text/html": [
              "\n",
              "  <div id=\"df-66542eb7-47e7-4240-b5b5-a603bfd44796\">\n",
              "    <div class=\"colab-df-container\">\n",
              "      <div>\n",
              "<style scoped>\n",
              "    .dataframe tbody tr th:only-of-type {\n",
              "        vertical-align: middle;\n",
              "    }\n",
              "\n",
              "    .dataframe tbody tr th {\n",
              "        vertical-align: top;\n",
              "    }\n",
              "\n",
              "    .dataframe thead th {\n",
              "        text-align: right;\n",
              "    }\n",
              "</style>\n",
              "<table border=\"1\" class=\"dataframe\">\n",
              "  <thead>\n",
              "    <tr style=\"text-align: right;\">\n",
              "      <th></th>\n",
              "      <th>label</th>\n",
              "      <th>message</th>\n",
              "    </tr>\n",
              "  </thead>\n",
              "  <tbody>\n",
              "    <tr>\n",
              "      <th>0</th>\n",
              "      <td>ham</td>\n",
              "      <td>go jurong point crazi avail bugi n great world...</td>\n",
              "    </tr>\n",
              "    <tr>\n",
              "      <th>1</th>\n",
              "      <td>ham</td>\n",
              "      <td>ok lar joke wif u oni</td>\n",
              "    </tr>\n",
              "    <tr>\n",
              "      <th>2</th>\n",
              "      <td>spam</td>\n",
              "      <td>free entri wkli comp win fa cup final tkt 21st...</td>\n",
              "    </tr>\n",
              "    <tr>\n",
              "      <th>3</th>\n",
              "      <td>ham</td>\n",
              "      <td>u dun say earli hor u c alreadi say</td>\n",
              "    </tr>\n",
              "    <tr>\n",
              "      <th>4</th>\n",
              "      <td>ham</td>\n",
              "      <td>nah dont think goe usf live around though</td>\n",
              "    </tr>\n",
              "    <tr>\n",
              "      <th>...</th>\n",
              "      <td>...</td>\n",
              "      <td>...</td>\n",
              "    </tr>\n",
              "    <tr>\n",
              "      <th>5567</th>\n",
              "      <td>spam</td>\n",
              "      <td>2nd time tri contact u u £750 pound prize clai...</td>\n",
              "    </tr>\n",
              "    <tr>\n",
              "      <th>5568</th>\n",
              "      <td>ham</td>\n",
              "      <td>ü b go esplanad fr home</td>\n",
              "    </tr>\n",
              "    <tr>\n",
              "      <th>5569</th>\n",
              "      <td>ham</td>\n",
              "      <td>piti mood soani suggest</td>\n",
              "    </tr>\n",
              "    <tr>\n",
              "      <th>5570</th>\n",
              "      <td>ham</td>\n",
              "      <td>guy bitch act like id interest buy someth els ...</td>\n",
              "    </tr>\n",
              "    <tr>\n",
              "      <th>5571</th>\n",
              "      <td>ham</td>\n",
              "      <td>rofl true name</td>\n",
              "    </tr>\n",
              "  </tbody>\n",
              "</table>\n",
              "<p>5572 rows × 2 columns</p>\n",
              "</div>\n",
              "      <button class=\"colab-df-convert\" onclick=\"convertToInteractive('df-66542eb7-47e7-4240-b5b5-a603bfd44796')\"\n",
              "              title=\"Convert this dataframe to an interactive table.\"\n",
              "              style=\"display:none;\">\n",
              "        \n",
              "  <svg xmlns=\"http://www.w3.org/2000/svg\" height=\"24px\"viewBox=\"0 0 24 24\"\n",
              "       width=\"24px\">\n",
              "    <path d=\"M0 0h24v24H0V0z\" fill=\"none\"/>\n",
              "    <path d=\"M18.56 5.44l.94 2.06.94-2.06 2.06-.94-2.06-.94-.94-2.06-.94 2.06-2.06.94zm-11 1L8.5 8.5l.94-2.06 2.06-.94-2.06-.94L8.5 2.5l-.94 2.06-2.06.94zm10 10l.94 2.06.94-2.06 2.06-.94-2.06-.94-.94-2.06-.94 2.06-2.06.94z\"/><path d=\"M17.41 7.96l-1.37-1.37c-.4-.4-.92-.59-1.43-.59-.52 0-1.04.2-1.43.59L10.3 9.45l-7.72 7.72c-.78.78-.78 2.05 0 2.83L4 21.41c.39.39.9.59 1.41.59.51 0 1.02-.2 1.41-.59l7.78-7.78 2.81-2.81c.8-.78.8-2.07 0-2.86zM5.41 20L4 18.59l7.72-7.72 1.47 1.35L5.41 20z\"/>\n",
              "  </svg>\n",
              "      </button>\n",
              "      \n",
              "  <style>\n",
              "    .colab-df-container {\n",
              "      display:flex;\n",
              "      flex-wrap:wrap;\n",
              "      gap: 12px;\n",
              "    }\n",
              "\n",
              "    .colab-df-convert {\n",
              "      background-color: #E8F0FE;\n",
              "      border: none;\n",
              "      border-radius: 50%;\n",
              "      cursor: pointer;\n",
              "      display: none;\n",
              "      fill: #1967D2;\n",
              "      height: 32px;\n",
              "      padding: 0 0 0 0;\n",
              "      width: 32px;\n",
              "    }\n",
              "\n",
              "    .colab-df-convert:hover {\n",
              "      background-color: #E2EBFA;\n",
              "      box-shadow: 0px 1px 2px rgba(60, 64, 67, 0.3), 0px 1px 3px 1px rgba(60, 64, 67, 0.15);\n",
              "      fill: #174EA6;\n",
              "    }\n",
              "\n",
              "    [theme=dark] .colab-df-convert {\n",
              "      background-color: #3B4455;\n",
              "      fill: #D2E3FC;\n",
              "    }\n",
              "\n",
              "    [theme=dark] .colab-df-convert:hover {\n",
              "      background-color: #434B5C;\n",
              "      box-shadow: 0px 1px 3px 1px rgba(0, 0, 0, 0.15);\n",
              "      filter: drop-shadow(0px 1px 2px rgba(0, 0, 0, 0.3));\n",
              "      fill: #FFFFFF;\n",
              "    }\n",
              "  </style>\n",
              "\n",
              "      <script>\n",
              "        const buttonEl =\n",
              "          document.querySelector('#df-66542eb7-47e7-4240-b5b5-a603bfd44796 button.colab-df-convert');\n",
              "        buttonEl.style.display =\n",
              "          google.colab.kernel.accessAllowed ? 'block' : 'none';\n",
              "\n",
              "        async function convertToInteractive(key) {\n",
              "          const element = document.querySelector('#df-66542eb7-47e7-4240-b5b5-a603bfd44796');\n",
              "          const dataTable =\n",
              "            await google.colab.kernel.invokeFunction('convertToInteractive',\n",
              "                                                     [key], {});\n",
              "          if (!dataTable) return;\n",
              "\n",
              "          const docLinkHtml = 'Like what you see? Visit the ' +\n",
              "            '<a target=\"_blank\" href=https://colab.research.google.com/notebooks/data_table.ipynb>data table notebook</a>'\n",
              "            + ' to learn more about interactive tables.';\n",
              "          element.innerHTML = '';\n",
              "          dataTable['output_type'] = 'display_data';\n",
              "          await google.colab.output.renderOutput(dataTable, element);\n",
              "          const docLink = document.createElement('div');\n",
              "          docLink.innerHTML = docLinkHtml;\n",
              "          element.appendChild(docLink);\n",
              "        }\n",
              "      </script>\n",
              "    </div>\n",
              "  </div>\n",
              "  "
            ],
            "text/plain": [
              "     label                                            message\n",
              "0      ham  go jurong point crazi avail bugi n great world...\n",
              "1      ham                              ok lar joke wif u oni\n",
              "2     spam  free entri wkli comp win fa cup final tkt 21st...\n",
              "3      ham                u dun say earli hor u c alreadi say\n",
              "4      ham          nah dont think goe usf live around though\n",
              "...    ...                                                ...\n",
              "5567  spam  2nd time tri contact u u £750 pound prize clai...\n",
              "5568   ham                            ü b go esplanad fr home\n",
              "5569   ham                            piti mood soani suggest\n",
              "5570   ham  guy bitch act like id interest buy someth els ...\n",
              "5571   ham                                     rofl true name\n",
              "\n",
              "[5572 rows x 2 columns]"
            ]
          },
          "metadata": {},
          "execution_count": 9
        }
      ],
      "source": [
        "df['message']=df['message'].apply(lambda x:clean(x))\n",
        "df"
      ],
      "id": "fd1733d7"
    },
    {
      "cell_type": "markdown",
      "metadata": {
        "id": "f76767a7"
      },
      "source": [
        "### Split data"
      ],
      "id": "f76767a7"
    },
    {
      "cell_type": "code",
      "execution_count": null,
      "metadata": {
        "id": "HwjiYNnxXn_I"
      },
      "outputs": [],
      "source": [
        "df=df.sample(frac=1,random_state=2)"
      ],
      "id": "HwjiYNnxXn_I"
    },
    {
      "cell_type": "code",
      "execution_count": null,
      "metadata": {
        "colab": {
          "base_uri": "https://localhost:8080/",
          "height": 423
        },
        "id": "f75e6cd2",
        "outputId": "ef558b51-2ce9-48a6-f621-a57b0b1e008b"
      },
      "outputs": [
        {
          "output_type": "execute_result",
          "data": {
            "text/html": [
              "\n",
              "  <div id=\"df-883a0b5f-9e25-4ac0-ae3b-952be6c58d37\">\n",
              "    <div class=\"colab-df-container\">\n",
              "      <div>\n",
              "<style scoped>\n",
              "    .dataframe tbody tr th:only-of-type {\n",
              "        vertical-align: middle;\n",
              "    }\n",
              "\n",
              "    .dataframe tbody tr th {\n",
              "        vertical-align: top;\n",
              "    }\n",
              "\n",
              "    .dataframe thead th {\n",
              "        text-align: right;\n",
              "    }\n",
              "</style>\n",
              "<table border=\"1\" class=\"dataframe\">\n",
              "  <thead>\n",
              "    <tr style=\"text-align: right;\">\n",
              "      <th></th>\n",
              "      <th>label</th>\n",
              "      <th>message</th>\n",
              "    </tr>\n",
              "  </thead>\n",
              "  <tbody>\n",
              "    <tr>\n",
              "      <th>5086</th>\n",
              "      <td>ham</td>\n",
              "      <td>omg one thing anoth cat worm bad day end</td>\n",
              "    </tr>\n",
              "    <tr>\n",
              "      <th>2120</th>\n",
              "      <td>ham</td>\n",
              "      <td>hope know im still mad</td>\n",
              "    </tr>\n",
              "    <tr>\n",
              "      <th>2318</th>\n",
              "      <td>ham</td>\n",
              "      <td>waqt se pehl naseeb se zyada kisi ko kuch nahi...</td>\n",
              "    </tr>\n",
              "    <tr>\n",
              "      <th>2917</th>\n",
              "      <td>ham</td>\n",
              "      <td>time tell friend around</td>\n",
              "    </tr>\n",
              "    <tr>\n",
              "      <th>1352</th>\n",
              "      <td>ham</td>\n",
              "      <td>yo there class tmrw right</td>\n",
              "    </tr>\n",
              "    <tr>\n",
              "      <th>...</th>\n",
              "      <td>...</td>\n",
              "      <td>...</td>\n",
              "    </tr>\n",
              "    <tr>\n",
              "      <th>4861</th>\n",
              "      <td>ham</td>\n",
              "      <td>respons one power weapon occupi place other he...</td>\n",
              "    </tr>\n",
              "    <tr>\n",
              "      <th>4528</th>\n",
              "      <td>ham</td>\n",
              "      <td>understand loss gain work school</td>\n",
              "    </tr>\n",
              "    <tr>\n",
              "      <th>2368</th>\n",
              "      <td>ham</td>\n",
              "      <td>v nice sheffield tom air opinion categori b us...</td>\n",
              "    </tr>\n",
              "    <tr>\n",
              "      <th>2029</th>\n",
              "      <td>ham</td>\n",
              "      <td>kalli readi bat 2nd inning</td>\n",
              "    </tr>\n",
              "    <tr>\n",
              "      <th>4816</th>\n",
              "      <td>ham</td>\n",
              "      <td>ü home work meh</td>\n",
              "    </tr>\n",
              "  </tbody>\n",
              "</table>\n",
              "<p>3343 rows × 2 columns</p>\n",
              "</div>\n",
              "      <button class=\"colab-df-convert\" onclick=\"convertToInteractive('df-883a0b5f-9e25-4ac0-ae3b-952be6c58d37')\"\n",
              "              title=\"Convert this dataframe to an interactive table.\"\n",
              "              style=\"display:none;\">\n",
              "        \n",
              "  <svg xmlns=\"http://www.w3.org/2000/svg\" height=\"24px\"viewBox=\"0 0 24 24\"\n",
              "       width=\"24px\">\n",
              "    <path d=\"M0 0h24v24H0V0z\" fill=\"none\"/>\n",
              "    <path d=\"M18.56 5.44l.94 2.06.94-2.06 2.06-.94-2.06-.94-.94-2.06-.94 2.06-2.06.94zm-11 1L8.5 8.5l.94-2.06 2.06-.94-2.06-.94L8.5 2.5l-.94 2.06-2.06.94zm10 10l.94 2.06.94-2.06 2.06-.94-2.06-.94-.94-2.06-.94 2.06-2.06.94z\"/><path d=\"M17.41 7.96l-1.37-1.37c-.4-.4-.92-.59-1.43-.59-.52 0-1.04.2-1.43.59L10.3 9.45l-7.72 7.72c-.78.78-.78 2.05 0 2.83L4 21.41c.39.39.9.59 1.41.59.51 0 1.02-.2 1.41-.59l7.78-7.78 2.81-2.81c.8-.78.8-2.07 0-2.86zM5.41 20L4 18.59l7.72-7.72 1.47 1.35L5.41 20z\"/>\n",
              "  </svg>\n",
              "      </button>\n",
              "      \n",
              "  <style>\n",
              "    .colab-df-container {\n",
              "      display:flex;\n",
              "      flex-wrap:wrap;\n",
              "      gap: 12px;\n",
              "    }\n",
              "\n",
              "    .colab-df-convert {\n",
              "      background-color: #E8F0FE;\n",
              "      border: none;\n",
              "      border-radius: 50%;\n",
              "      cursor: pointer;\n",
              "      display: none;\n",
              "      fill: #1967D2;\n",
              "      height: 32px;\n",
              "      padding: 0 0 0 0;\n",
              "      width: 32px;\n",
              "    }\n",
              "\n",
              "    .colab-df-convert:hover {\n",
              "      background-color: #E2EBFA;\n",
              "      box-shadow: 0px 1px 2px rgba(60, 64, 67, 0.3), 0px 1px 3px 1px rgba(60, 64, 67, 0.15);\n",
              "      fill: #174EA6;\n",
              "    }\n",
              "\n",
              "    [theme=dark] .colab-df-convert {\n",
              "      background-color: #3B4455;\n",
              "      fill: #D2E3FC;\n",
              "    }\n",
              "\n",
              "    [theme=dark] .colab-df-convert:hover {\n",
              "      background-color: #434B5C;\n",
              "      box-shadow: 0px 1px 3px 1px rgba(0, 0, 0, 0.15);\n",
              "      filter: drop-shadow(0px 1px 2px rgba(0, 0, 0, 0.3));\n",
              "      fill: #FFFFFF;\n",
              "    }\n",
              "  </style>\n",
              "\n",
              "      <script>\n",
              "        const buttonEl =\n",
              "          document.querySelector('#df-883a0b5f-9e25-4ac0-ae3b-952be6c58d37 button.colab-df-convert');\n",
              "        buttonEl.style.display =\n",
              "          google.colab.kernel.accessAllowed ? 'block' : 'none';\n",
              "\n",
              "        async function convertToInteractive(key) {\n",
              "          const element = document.querySelector('#df-883a0b5f-9e25-4ac0-ae3b-952be6c58d37');\n",
              "          const dataTable =\n",
              "            await google.colab.kernel.invokeFunction('convertToInteractive',\n",
              "                                                     [key], {});\n",
              "          if (!dataTable) return;\n",
              "\n",
              "          const docLinkHtml = 'Like what you see? Visit the ' +\n",
              "            '<a target=\"_blank\" href=https://colab.research.google.com/notebooks/data_table.ipynb>data table notebook</a>'\n",
              "            + ' to learn more about interactive tables.';\n",
              "          element.innerHTML = '';\n",
              "          dataTable['output_type'] = 'display_data';\n",
              "          await google.colab.output.renderOutput(dataTable, element);\n",
              "          const docLink = document.createElement('div');\n",
              "          docLink.innerHTML = docLinkHtml;\n",
              "          element.appendChild(docLink);\n",
              "        }\n",
              "      </script>\n",
              "    </div>\n",
              "  </div>\n",
              "  "
            ],
            "text/plain": [
              "     label                                            message\n",
              "5086   ham           omg one thing anoth cat worm bad day end\n",
              "2120   ham                             hope know im still mad\n",
              "2318   ham  waqt se pehl naseeb se zyada kisi ko kuch nahi...\n",
              "2917   ham                            time tell friend around\n",
              "1352   ham                          yo there class tmrw right\n",
              "...    ...                                                ...\n",
              "4861   ham  respons one power weapon occupi place other he...\n",
              "4528   ham                   understand loss gain work school\n",
              "2368   ham  v nice sheffield tom air opinion categori b us...\n",
              "2029   ham                         kalli readi bat 2nd inning\n",
              "4816   ham                                    ü home work meh\n",
              "\n",
              "[3343 rows x 2 columns]"
            ]
          },
          "metadata": {},
          "execution_count": 11
        }
      ],
      "source": [
        "row,col = df.shape\n",
        "split_train=math.floor(0.6*row)\n",
        "split_validation=math.floor(0.8*row)\n",
        "train=df[0:split_train]\n",
        "validation=df[split_train:split_validation]\n",
        "test=df[split_validation:]\n",
        "train"
      ],
      "id": "f75e6cd2"
    },
    {
      "cell_type": "markdown",
      "metadata": {
        "id": "OTfoWBZWkPaF"
      },
      "source": [
        "###TF-IDF Function"
      ],
      "id": "OTfoWBZWkPaF"
    },
    {
      "cell_type": "code",
      "execution_count": null,
      "metadata": {
        "id": "A-A10WYFSJ4t"
      },
      "outputs": [],
      "source": [
        "def document_freq(message):\n",
        "  tokens=word_tokenize(message)\n",
        "  for word in tokens:\n",
        "    docfreq.setdefault(word,0)\n",
        "    docfreq[word]+=1"
      ],
      "id": "A-A10WYFSJ4t"
    },
    {
      "cell_type": "code",
      "execution_count": null,
      "metadata": {
        "id": "0UWiaCz6gK59"
      },
      "outputs": [],
      "source": [
        "def tf(message):\n",
        "  words=word_tokenize(message)\n",
        "  termf=dict()\n",
        "  n=0\n",
        "  for word in words:\n",
        "    if docfreq.get(word,None) == None:\n",
        "      continue\n",
        "    termf.setdefault(word,0)\n",
        "    termf[word]+=1\n",
        "    n+=1\n",
        "  return termf,n"
      ],
      "id": "0UWiaCz6gK59"
    },
    {
      "cell_type": "code",
      "execution_count": null,
      "metadata": {
        "id": "Wuxlsxb0tb_B"
      },
      "outputs": [],
      "source": [
        "def indexing():\n",
        "  total_words=len(docfreq)\n",
        "  count=0\n",
        "  for key in docfreq.keys():\n",
        "    index[key]=count\n",
        "    idf[key]=math.log((split_train + 1)/(docfreq[key] + 1))\n",
        "    count+=1\n"
      ],
      "id": "Wuxlsxb0tb_B"
    },
    {
      "cell_type": "code",
      "execution_count": null,
      "metadata": {
        "id": "3_XpLrcFkvDx"
      },
      "outputs": [],
      "source": [
        "def tf_idf(message):\n",
        "  vec=[0] * total_words\n",
        "  term_freq_tokens,word_count=tf(message)\n",
        "  \n",
        "  for word in term_freq_tokens.keys():\n",
        "    if docfreq.get(word,None) == None:\n",
        "      continue\n",
        "    term_freq= term_freq_tokens[word]/word_count\n",
        "    vec[index[word]] = term_freq * idf[word]\n",
        "  return np.array(vec)"
      ],
      "id": "3_XpLrcFkvDx"
    },
    {
      "cell_type": "code",
      "execution_count": null,
      "metadata": {
        "id": "EnJ1ai7Ga_Gf"
      },
      "outputs": [],
      "source": [
        "def vectorizer(message,tag):\n",
        "  model[message]=tf_idf(message)\n",
        "  label[message]=tag"
      ],
      "id": "EnJ1ai7Ga_Gf"
    },
    {
      "cell_type": "markdown",
      "metadata": {
        "id": "-XTN_5XujWP4"
      },
      "source": [
        "###Distance"
      ],
      "id": "-XTN_5XujWP4"
    },
    {
      "cell_type": "markdown",
      "metadata": {
        "id": "wQqOENlYu9kg"
      },
      "source": [
        "####Cosine"
      ],
      "id": "wQqOENlYu9kg"
    },
    {
      "cell_type": "code",
      "execution_count": null,
      "metadata": {
        "id": "G4nmEBsvI9E1"
      },
      "outputs": [],
      "source": [
        "cosine=lambda a,b: np.inner(a,b)/(LA.norm(a)*LA.norm(b))"
      ],
      "id": "G4nmEBsvI9E1"
    },
    {
      "cell_type": "markdown",
      "metadata": {
        "id": "eg8AnZ0SvIj5"
      },
      "source": [
        "####Euclidean"
      ],
      "id": "eg8AnZ0SvIj5"
    },
    {
      "cell_type": "code",
      "execution_count": null,
      "metadata": {
        "id": "LRDws-z-vSrv"
      },
      "outputs": [],
      "source": [
        "euclidean= lambda a,b: LA.norm(a-b)"
      ],
      "id": "LRDws-z-vSrv"
    },
    {
      "cell_type": "markdown",
      "metadata": {
        "id": "5QlDIBMRvTpW"
      },
      "source": [
        "Manhattan"
      ],
      "id": "5QlDIBMRvTpW"
    },
    {
      "cell_type": "code",
      "execution_count": null,
      "metadata": {
        "id": "_3lE8bDlwULf"
      },
      "outputs": [],
      "source": [
        "manhattan= lambda a,b: np.abs(a-b).sum()"
      ],
      "id": "_3lE8bDlwULf"
    },
    {
      "cell_type": "markdown",
      "metadata": {
        "id": "kqtDi4a0wWCw"
      },
      "source": [
        "####Hamming"
      ],
      "id": "kqtDi4a0wWCw"
    },
    {
      "cell_type": "code",
      "execution_count": null,
      "metadata": {
        "id": "baFG6ogTwany"
      },
      "outputs": [],
      "source": [
        "# hamming = lambda a,b : distance.hamming(a,b)"
      ],
      "id": "baFG6ogTwany"
    },
    {
      "cell_type": "markdown",
      "metadata": {
        "id": "ee6eb76b"
      },
      "source": [
        "### Train your KNN model (reuse previously iplemented model built from scratch) and test on your data"
      ],
      "id": "ee6eb76b"
    },
    {
      "cell_type": "code",
      "execution_count": null,
      "metadata": {
        "id": "gH_Y3HvocA2G"
      },
      "outputs": [],
      "source": [
        "train['message'].apply(lambda x:document_freq(x))\n",
        "indexing()\n",
        "# print(index)\n",
        "total_words = len(docfreq)\n",
        "# print(total_words)\n",
        "for i, row in train.iterrows():\n",
        "  vectorizer(row['message'],row['label'])\n",
        "\n",
        "# train['message'].apply(lambda x:vectorizer(x))\n",
        "# for key,val in model.items():\n",
        "#   if None in val:\n",
        "#     print(key)"
      ],
      "id": "gH_Y3HvocA2G"
    },
    {
      "cell_type": "code",
      "execution_count": null,
      "metadata": {
        "id": "AABaH6YP-GkB"
      },
      "outputs": [],
      "source": [
        "def majority(label):\n",
        "  h=0\n",
        "  s=0\n",
        "  # return 'ham'\n",
        "  for x in label:\n",
        "    if x[1]=='ham':\n",
        "      h+=1\n",
        "    else:\n",
        "      s+=1\n",
        "  if h>s:\n",
        "    return 'ham'\n",
        "  else:\n",
        "    return 'spam'"
      ],
      "id": "AABaH6YP-GkB"
    },
    {
      "cell_type": "code",
      "execution_count": null,
      "metadata": {
        "id": "lT_9c1X7o1ye"
      },
      "outputs": [],
      "source": [
        "def knn(k,message,dist='cosine'):\n",
        "  # print(cosine_distance(k,message))\n",
        "  flag=False\n",
        "  message=clean(message)\n",
        "  vec=tf_idf(message)\n",
        "  ans=list()\n",
        "\n",
        "  if dist == 'cosine':\n",
        "    func=cosine\n",
        "    flag=True\n",
        "  elif dist == 'euclidean':\n",
        "    func=euclidean\n",
        "  elif dist == 'manhattan':\n",
        "    func = manhattan\n",
        "  # elif dist == 'hamming':\n",
        "  #   func = hamming\n",
        "\n",
        "\n",
        "\n",
        "  for msg,arr in model.items():\n",
        "    sim=func(vec,arr)\n",
        "    # x=str(df['label'][df['message']== msg])\n",
        "    \n",
        "    # x=x.split()[1].split('\\n')[0]\n",
        "    x=label[msg]\n",
        "    ans.append((sim,x))\n",
        "  ans.sort(reverse=flag)\n",
        "  return majority(ans[:k])"
      ],
      "id": "lT_9c1X7o1ye"
    },
    {
      "cell_type": "code",
      "execution_count": null,
      "metadata": {
        "id": "JbfcZ-DEFGA7"
      },
      "outputs": [],
      "source": [
        "# data = train.iloc[0][\"message\"]\n",
        "# data"
      ],
      "id": "JbfcZ-DEFGA7"
    },
    {
      "cell_type": "code",
      "execution_count": null,
      "metadata": {
        "id": "TtjkRu9XE6jx"
      },
      "outputs": [],
      "source": [
        "# %%time\n",
        "# knn(5,data)"
      ],
      "id": "TtjkRu9XE6jx"
    },
    {
      "cell_type": "code",
      "execution_count": null,
      "metadata": {
        "id": "xhMGVawrC-Ae"
      },
      "outputs": [],
      "source": [
        "def predict(k,valid,dist='cosine'):\n",
        "  predicted=list()\n",
        "  actual= list()\n",
        "  eval = list()\n",
        "  for i, row in valid.iterrows():\n",
        "    # if len(row['message'])==0:\n",
        "    #   continue\n",
        "    pred=knn(k ,row['message'],dist)\n",
        "    tru=row['label']\n",
        "    predicted.append(pred)\n",
        "    actual.append(tru)\n",
        "    # if pred == tru:\n",
        "    #   correct+=1\n",
        "    # total+=1\n",
        "  eval.append([predicted,actual])\n",
        "  cm = confusion_matrix(actual, predicted,labels=['ham','spam'])\n",
        "  return cm"
      ],
      "id": "xhMGVawrC-Ae"
    },
    {
      "cell_type": "markdown",
      "metadata": {
        "id": "22baf6b2"
      },
      "source": [
        "***1. Experiment with different distance measures [Euclidean distance, Manhattan distance, Hamming Distance] and compare with the Cosine Similarity distance results.***"
      ],
      "id": "22baf6b2"
    },
    {
      "cell_type": "code",
      "execution_count": null,
      "metadata": {
        "id": "68f1bb23",
        "colab": {
          "base_uri": "https://localhost:8080/"
        },
        "outputId": "c7263abe-a533-4847-f9eb-39c01673a5c1"
      },
      "outputs": [
        {
          "output_type": "stream",
          "name": "stderr",
          "text": [
            "/usr/local/lib/python3.7/dist-packages/ipykernel_launcher.py:1: RuntimeWarning: invalid value encountered in double_scalars\n",
            "  \"\"\"Entry point for launching an IPython kernel.\n",
            "/usr/local/lib/python3.7/dist-packages/ipykernel_launcher.py:1: RuntimeWarning: invalid value encountered in true_divide\n",
            "  \"\"\"Entry point for launching an IPython kernel.\n",
            "/usr/local/lib/python3.7/dist-packages/ipykernel_launcher.py:1: RuntimeWarning: invalid value encountered in double_scalars\n",
            "  \"\"\"Entry point for launching an IPython kernel.\n",
            "/usr/local/lib/python3.7/dist-packages/ipykernel_launcher.py:1: RuntimeWarning: invalid value encountered in true_divide\n",
            "  \"\"\"Entry point for launching an IPython kernel.\n",
            "/usr/local/lib/python3.7/dist-packages/ipykernel_launcher.py:1: RuntimeWarning: invalid value encountered in double_scalars\n",
            "  \"\"\"Entry point for launching an IPython kernel.\n",
            "/usr/local/lib/python3.7/dist-packages/ipykernel_launcher.py:1: RuntimeWarning: invalid value encountered in true_divide\n",
            "  \"\"\"Entry point for launching an IPython kernel.\n",
            "/usr/local/lib/python3.7/dist-packages/ipykernel_launcher.py:1: RuntimeWarning: invalid value encountered in double_scalars\n",
            "  \"\"\"Entry point for launching an IPython kernel.\n",
            "/usr/local/lib/python3.7/dist-packages/ipykernel_launcher.py:1: RuntimeWarning: invalid value encountered in true_divide\n",
            "  \"\"\"Entry point for launching an IPython kernel.\n",
            "/usr/local/lib/python3.7/dist-packages/ipykernel_launcher.py:1: RuntimeWarning: invalid value encountered in double_scalars\n",
            "  \"\"\"Entry point for launching an IPython kernel.\n",
            "/usr/local/lib/python3.7/dist-packages/ipykernel_launcher.py:1: RuntimeWarning: invalid value encountered in true_divide\n",
            "  \"\"\"Entry point for launching an IPython kernel.\n",
            "/usr/local/lib/python3.7/dist-packages/ipykernel_launcher.py:1: RuntimeWarning: invalid value encountered in double_scalars\n",
            "  \"\"\"Entry point for launching an IPython kernel.\n",
            "/usr/local/lib/python3.7/dist-packages/ipykernel_launcher.py:1: RuntimeWarning: invalid value encountered in true_divide\n",
            "  \"\"\"Entry point for launching an IPython kernel.\n",
            "/usr/local/lib/python3.7/dist-packages/ipykernel_launcher.py:1: RuntimeWarning: invalid value encountered in double_scalars\n",
            "  \"\"\"Entry point for launching an IPython kernel.\n",
            "/usr/local/lib/python3.7/dist-packages/ipykernel_launcher.py:1: RuntimeWarning: invalid value encountered in true_divide\n",
            "  \"\"\"Entry point for launching an IPython kernel.\n",
            "/usr/local/lib/python3.7/dist-packages/ipykernel_launcher.py:1: RuntimeWarning: invalid value encountered in double_scalars\n",
            "  \"\"\"Entry point for launching an IPython kernel.\n",
            "/usr/local/lib/python3.7/dist-packages/ipykernel_launcher.py:1: RuntimeWarning: invalid value encountered in true_divide\n",
            "  \"\"\"Entry point for launching an IPython kernel.\n"
          ]
        }
      ],
      "source": [
        "# train['message'].apply(lambda x: knn(5,x))\n",
        "# eval = list()\n",
        "distances= ['cosine','euclidean', 'manhattan']\n",
        "k_val=[1,3,5,7,11,17,23,28]\n",
        "conf_mat=dict()\n",
        "for d in distances:\n",
        "  acc=[]\n",
        "  for k in k_val:\n",
        "    # predicted=list()\n",
        "    # actual= list()\n",
        "    # for i, row in validation.iterrows():\n",
        "    #   pred=knn(k ,row['message'],'cosine')\n",
        "    #   tru=row['label']\n",
        "    #   predicted.append(pred)\n",
        "    #   actual.append(tru)\n",
        "    #   # if pred == tru:\n",
        "    #   #   correct+=1\n",
        "    #   # total+=1\n",
        "    # eval.append([predicted,actual])\n",
        "    # cm = confusion_matrix(actual, predicted)\n",
        "    # print(cm)\n",
        "    cm=predict(k,validation,d)\n",
        "    acc.append(cm)\n",
        "  conf_mat[d]=acc\n",
        "  # print(idf)"
      ],
      "id": "68f1bb23"
    },
    {
      "cell_type": "markdown",
      "metadata": {
        "id": "bcf6f3b1"
      },
      "source": [
        "***2. Explain which distance measure works best and why? Explore the distance measures and weigh their pro and cons in different application settings.***"
      ],
      "id": "bcf6f3b1"
    },
    {
      "cell_type": "markdown",
      "metadata": {
        "id": "bae57a01"
      },
      "source": [
        "Cosine similarity is basically finding cosine angle between two vectors. the advantage of cosine similarity in higher dimensional space is that even if the similar emails are placed far away ( w.r.t to manhattan and euclidean distance) then also there are high chances that they are closely oriented (angle between them will be less the more oriented they are).\n",
        "Note please look the below graph to see performance difference. "
      ],
      "id": "bae57a01"
    },
    {
      "cell_type": "markdown",
      "source": [
        "***3.Why accuracy is not enough?***"
      ],
      "metadata": {
        "id": "RZLzmKvNsj2Y"
      },
      "id": "RZLzmKvNsj2Y"
    },
    {
      "cell_type": "markdown",
      "source": [
        "Accuracy tells us how much correct predictions it has done. It doesn't pictures whether the positive value were more correctly predicted or negative value were correctly predicted more.\n",
        "\n",
        "For imbalanced data like the one givento us accuracy is not good evaluation metric to evaluate model's performance.\n",
        "\n",
        "For checking how much correct true positive are calculated we take help of precision.\n",
        "I f we wnat to take in consideration about false negative then recall metric is good.\n",
        "\n",
        "In our question we need to main tain balance betwwen both precison and recall. They are both important factors. To get a good balaance we use F1 score.\n",
        "\n",
        "F1 score= 2*(precision * recall) / (precison + recall) [Harmonic Mean of Precison and Recall]\n"
      ],
      "metadata": {
        "id": "RVPUwj4VuyBs"
      },
      "id": "RVPUwj4VuyBs"
    },
    {
      "cell_type": "markdown",
      "metadata": {
        "id": "d4dde8d3"
      },
      "source": [
        "***4. Choose different K values (k=1,3,5,7,11,17,23,28) and experiment. Plot a graph showing F1 score vs k.***"
      ],
      "id": "d4dde8d3"
    },
    {
      "cell_type": "code",
      "execution_count": null,
      "metadata": {
        "id": "qinpVFoO1ZhJ"
      },
      "outputs": [],
      "source": [
        "\n",
        "\n",
        "def cal_f1(distance):\n",
        "  f1_val=list()\n",
        "  for mat in conf_mat[distance]:\n",
        "    numerator=mat[1][1]\n",
        "    denominator=numerator + (mat[0][1] + mat[1][0])/2\n",
        "    f1=numerator/denominator\n",
        "    f1_val.append(f1)\n",
        "  return f1_val\n",
        "\n",
        "# cal_f1()"
      ],
      "id": "qinpVFoO1ZhJ"
    },
    {
      "cell_type": "code",
      "execution_count": null,
      "metadata": {
        "colab": {
          "base_uri": "https://localhost:8080/",
          "height": 279
        },
        "id": "45e0fd2f",
        "outputId": "cbfec2b5-fcc6-4eb5-8658-81d1e0020b0e"
      },
      "outputs": [
        {
          "output_type": "display_data",
          "data": {
            "image/png": "[encoded data removed]",
            "text/plain": [
              "<Figure size 432x288 with 1 Axes>"
            ]
          },
          "metadata": {
            "needs_background": "light"
          }
        }
      ],
      "source": [
        "\n",
        "for key,val in conf_mat.items():\n",
        "  f2_val=cal_f1(key)\n",
        "  plt.plot(k_val,f2_val,label=key,marker='o')\n",
        "plt.legend()\n",
        "plt.xlabel('Values of k')\n",
        "plt.ylabel('F1-score')\n",
        "plt.show()"
      ],
      "id": "45e0fd2f"
    },
    {
      "cell_type": "code",
      "execution_count": null,
      "metadata": {
        "id": "d91zmJOrpGF-"
      },
      "outputs": [],
      "source": [
        "def cal_single_f1(mat):\n",
        "  numerator=mat[1][1]\n",
        "  denominator=numerator + (mat[0][1] + mat[1][0])/2\n",
        "  f1=numerator/denominator\n",
        "  return f1"
      ],
      "id": "d91zmJOrpGF-"
    },
    {
      "cell_type": "code",
      "execution_count": null,
      "metadata": {
        "id": "Nm3wI9xOoBhE",
        "colab": {
          "base_uri": "https://localhost:8080/"
        },
        "outputId": "e676df52-ef04-4815-f9e0-52d4699782f1"
      },
      "outputs": [
        {
          "output_type": "stream",
          "name": "stderr",
          "text": [
            "/usr/local/lib/python3.7/dist-packages/ipykernel_launcher.py:1: RuntimeWarning: invalid value encountered in double_scalars\n",
            "  \"\"\"Entry point for launching an IPython kernel.\n",
            "/usr/local/lib/python3.7/dist-packages/ipykernel_launcher.py:1: RuntimeWarning: invalid value encountered in true_divide\n",
            "  \"\"\"Entry point for launching an IPython kernel.\n"
          ]
        }
      ],
      "source": [
        "cm=predict(3,test,'cosine')\n"
      ],
      "id": "Nm3wI9xOoBhE"
    },
    {
      "cell_type": "code",
      "source": [
        "print(\"F1 Score:\",cal_single_f1(cm))\n",
        "tn,fp,fn,tp=cm.ravel()\n",
        "print(\"Confusion Matrix: \",cm)\n",
        "recall= tp/(tp+fn)\n",
        "print(\"Recall:\",recall)\n",
        "precision= tp/(tp+fp)\n",
        "print('Precision:',precision)\n",
        "\n",
        "my_knn_acc= (tn + tp) / (tn + tp + fp + fn)\n",
        "print(\"Accuracy: \",my_knn_acc)"
      ],
      "metadata": {
        "colab": {
          "base_uri": "https://localhost:8080/"
        },
        "id": "_EXajvbQeb7E",
        "outputId": "785f1e1c-22b2-4c0c-dd5c-d92e69857c21"
      },
      "id": "_EXajvbQeb7E",
      "execution_count": null,
      "outputs": [
        {
          "output_type": "stream",
          "name": "stdout",
          "text": [
            "F1 Score: 0.8551724137931035\n",
            "Confusion Matrix:  [[949   9]\n",
            " [ 33 124]]\n",
            "Recall: 0.7898089171974523\n",
            "Precision: 0.9323308270676691\n",
            "Accuracy:  0.9623318385650225\n"
          ]
        }
      ]
    },
    {
      "cell_type": "markdown",
      "metadata": {
        "id": "15000352"
      },
      "source": [
        "### Train and test Sklearn's KNN classifier model on your data (use metric which gave best results on your experimentation with built-from-scratch model.)"
      ],
      "id": "15000352"
    },
    {
      "cell_type": "code",
      "execution_count": null,
      "metadata": {
        "colab": {
          "base_uri": "https://localhost:8080/"
        },
        "id": "48aab7d3",
        "outputId": "1f47929a-a08f-4740-f942-021628dc674f"
      },
      "outputs": [
        {
          "output_type": "execute_result",
          "data": {
            "text/plain": [
              "KNeighborsClassifier(algorithm='brute', metric='cosine', n_neighbors=3)"
            ]
          },
          "metadata": {},
          "execution_count": 37
        }
      ],
      "source": [
        "from sklearn.neighbors import KNeighborsClassifier\n",
        "from sklearn import metrics\n",
        "\n",
        "train_x=list()\n",
        "train_y=list()\n",
        "test_x=list()\n",
        "\n",
        "\n",
        "for key in model.keys():\n",
        "  train_x.append(model[key])\n",
        "  train_y.append(label[key])\n",
        "\n",
        "trained = KNeighborsClassifier(n_neighbors=3,metric='cosine',algorithm='brute')\n",
        "trained.fit(train_x,train_y)\n"
      ],
      "id": "48aab7d3"
    },
    {
      "cell_type": "code",
      "execution_count": null,
      "metadata": {
        "id": "IGJ2eSHS_OuT"
      },
      "outputs": [],
      "source": [
        "true_y=list()\n",
        "for i,row in test.iterrows():\n",
        "  # print(row['message'])\n",
        "  test_x.append(tf_idf(row['message']))\n",
        "  true_y.append(str(row['label']))"
      ],
      "id": "IGJ2eSHS_OuT"
    },
    {
      "cell_type": "code",
      "execution_count": null,
      "metadata": {
        "id": "FA21mwq-AFm-"
      },
      "outputs": [],
      "source": [
        "y=trained.predict(test_x)\n",
        "\n",
        "  # print(type(str(d)))"
      ],
      "id": "FA21mwq-AFm-"
    },
    {
      "cell_type": "markdown",
      "metadata": {
        "id": "7d22aa47"
      },
      "source": [
        "***Compare both the models result.***"
      ],
      "id": "7d22aa47"
    },
    {
      "cell_type": "code",
      "execution_count": null,
      "metadata": {
        "colab": {
          "base_uri": "https://localhost:8080/"
        },
        "id": "BfwQvdeWUSxY",
        "outputId": "a803a991-3695-431d-a586-d86942325df6"
      },
      "outputs": [
        {
          "output_type": "stream",
          "name": "stdout",
          "text": [
            "The f1 score of sklearn knn is : 0.8771929824561403\n",
            "The f1_score of my knn is : 0.8551724137931035\n",
            "Accuracy of sklearn knn : 0.968609865470852\n",
            "Accuracy of my knn : 0.9623318385650225\n"
          ]
        }
      ],
      "source": [
        "print(\"The f1 score of sklearn knn is :\",metrics.f1_score(true_y,y,pos_label='spam'))\n",
        "print(\"The f1_score of my knn is :\",cal_single_f1(cm))\n",
        "\n",
        "print(\"Accuracy of sklearn knn :\",metrics.accuracy_score(true_y,y))\n",
        "print(\"Accuracy of my knn :\",my_knn_acc)\n"
      ],
      "id": "BfwQvdeWUSxY"
    },
    {
      "cell_type": "markdown",
      "source": [
        "From above it is seen that both Sklearn knn aand built from scratch knn have similar accuracy and f1 score. therefore in terms of accuracy of output both are similar."
      ],
      "metadata": {
        "id": "5_JAPvcUr-mq"
      },
      "id": "5_JAPvcUr-mq"
    },
    {
      "cell_type": "markdown",
      "metadata": {
        "id": "64987575"
      },
      "source": [
        "***What is the time complexity of training using KNN classifier?***"
      ],
      "id": "64987575"
    },
    {
      "cell_type": "markdown",
      "metadata": {
        "id": "2770c106"
      },
      "source": [
        "We are using brute force approach. Therefore time complexity to train knn classifier is **O(1)** as no training is needed in this approach."
      ],
      "id": "2770c106"
    },
    {
      "cell_type": "markdown",
      "metadata": {
        "id": "fad1f345"
      },
      "source": [
        "***What is the time complexity while testing? Is KNN a linear classifier or can it learn any boundary?***"
      ],
      "id": "fad1f345"
    },
    {
      "cell_type": "markdown",
      "source": [
        "Time complexity to test in knn to test is **O(n*d)** where,<br>\n",
        "n = No. of points in train set<br>\n",
        "d = dimension of vector through which calculation takes place.\n",
        "\n",
        "A classifier is said to be a linear classifier if it makes decision on the basis of a boundary ( here boundary should be hyperplane as we are talking about linear classifier) whether decision is positive or negative.\n",
        "\n",
        "In case of knn the boundary is generally curved , which is not hyperplane therefore knn is not a linear classifier. For example if positive points are densely populated at a position then the knn would generated a curve boundary\n",
        "\n",
        "As knn is not linear classifier so it can learn boundaries."
      ],
      "metadata": {
        "id": "zMbu8mI4ZlS_"
      },
      "id": "zMbu8mI4ZlS_"
    }
  ],
  "metadata": {
    "colab": {
      "collapsed_sections": [
        "1vv1da77jpf6",
        "cd1ef5ba",
        "OTfoWBZWkPaF",
        "wQqOENlYu9kg"
      ],
      "name": "2021201046_Assignment1_Question3.ipynb",
      "provenance": []
    },
    "kernelspec": {
      "display_name": "Python 3",
      "language": "python",
      "name": "python3"
    },
    "language_info": {
      "codemirror_mode": {
        "name": "ipython",
        "version": 3
      },
      "file_extension": ".py",
      "mimetype": "text/x-python",
      "name": "python",
      "nbconvert_exporter": "python",
      "pygments_lexer": "ipython3",
      "version": "3.8.10"
    }
  },
  "nbformat": 4,
  "nbformat_minor": 5
}
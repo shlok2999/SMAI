{
  "cells": [
    {
      "cell_type": "markdown",
      "id": "7b7992a1",
      "metadata": {
        "id": "7b7992a1"
      },
      "source": [
        "# Image Recommendation System via Collaborative Filtering"
      ]
    },
    {
      "cell_type": "markdown",
      "id": "bdbd69cd",
      "metadata": {
        "id": "bdbd69cd"
      },
      "source": [
        "# ***Please read the instructions very carefully***"
      ]
    },
    {
      "cell_type": "markdown",
      "id": "17602772",
      "metadata": {
        "id": "17602772"
      },
      "source": [
        "1.   Assignment must be implemented in Python 3 only.\n",
        "2.   You are allowed to use libraries for data preprocessing (numpy, pandas, nltk etc) and for evaluation metrics, data visualization (matplotlib etc.).\n",
        "3.   You will be evaluated not just on the overall performance of the model and also on the experimentation with hyper parameters, data prepossessing techniques etc.\n",
        "4.   ⚠️ The Assignment will be evaluated automatically. Please adhere to taking proper inputs from `config.csv` file. You can change your `config.csv` file to experiment with your code. But at the end, make sure that your outputs are corresponding to input values in `config.csv`\n",
        "5.   Strict plagiarism checking will be done. An F will be awarded for plagiarism."
      ]
    },
    {
      "cell_type": "markdown",
      "id": "3c9abf04",
      "metadata": {
        "id": "3c9abf04"
      },
      "source": [
        "## About the Dataset\n",
        "Behance is a community art website where users showcase and discover creative work. Each user is able to “appreciate” (equivalent to a “like” on Instagram or a “react” on Facebook) an image, indicating that they like the image. It is in the website’s best interests to show users pictures that they would like, to keep them engaged for longer. For this question, given a set of pictures that a user has already appreciated, you have to show them a new picture that they would like based on what similar users appreciated.\n",
        "\n",
        "\n",
        "<br><br>\n",
        "**The dataset has information of 1 million appreciates of 63,497 users on 178,788 items. The file Behance appreciate 1M has a triplet in each line in the form of (user id, item id, unix timestamp).**"
      ]
    },
    {
      "cell_type": "markdown",
      "id": "11f6eaf3",
      "metadata": {
        "id": "11f6eaf3"
      },
      "source": [
        "**Task: Take the inputs from the config.csv file and output the recommendations for a particular person**\n",
        "- Collaborative Filtering is a way to predict items to the user based on the the\n",
        "user’s history and the history of similar users. The similarity between users can be quantified by the number of images that both the users appreciated.\n",
        "- The images appreciated by a similar user would be the most suitable images to show a user. Since we can find the similarity between any two users, we would be able to find the “nearest” neighbours of any user, allowing us to use a KNN-based algorithm to recommend new images to a user.\n",
        "- Since people do not like seeing pictures that they have seen already. Make sure that you do not recommend pictures that a user has appreciated already.\n",
        "- Output the final response will be saved in the file named ```config['output_file']```.\n"
      ]
    },
    {
      "cell_type": "markdown",
      "id": "1c9a5e4f",
      "metadata": {
        "id": "1c9a5e4f"
      },
      "source": [
        "**Output file format:**\n",
        "Populate the output file with images that the user has not seen of the k most\n",
        "similar users, in descending order of their similarity. Each line in the output\n",
        "file should be a duplet in the form of (item id, user id), where the user id is the\n",
        "id of the kth similar user. The order of the images corresponding to the same\n",
        "similar user would not matter. The output file would look something like this:\n",
        "```\n",
        "item_id_1_of_1st_similar_user 1st_most_similar_user_id\n",
        "item_id_2_of_1st_similar_user 1st_most_similar_user_id\n",
        "item_id_3_of_1st_similar_user 1st_most_similar_user_id\n",
        "...\n",
        "item_id_1_of_2nd_similar_user 2nd_most_similar_user_id\n",
        "item_id_2_of_2nd_similar_user 2nd_most_similar_user_id\n",
        "item_id_3_of_2nd_similar_user 2nd_most_similar_user_id\n",
        "...\n",
        "item_id_1_of_kth_similar_user kth_most_similar_user_id\n",
        "item_id_2_of_kth_similar_user kth_most_similar_user_id\n",
        "item_id_3_of_kth_similar_user kth_most_similar_user_id\n",
        "```"
      ]
    },
    {
      "cell_type": "markdown",
      "id": "c6d0c592",
      "metadata": {
        "id": "c6d0c592"
      },
      "source": [
        "The dataset was extracted using Behance’s API as a part of the paper\n",
        "“Vista: A visually, socially, and temporally-aware model for artistic\n",
        "recommendation, RecSys, 2016”. Check out this [Google Drive folder](https://drive.google.com/drive/folders/0B9Ck8jw-TZUEc3NlMjVXdDlPU1k?resourcekey=0-6_8ykn0o4fLc5fuTEm91xA) for\n",
        "more information about the dataset.\n",
        "\n",
        "\n",
        "Have fun! The users are waiting to see new pictures!"
      ]
    },
    {
      "cell_type": "markdown",
      "id": "87b8072a",
      "metadata": {
        "id": "87b8072a"
      },
      "source": [
        "### Import necessary libraries"
      ]
    },
    {
      "cell_type": "markdown",
      "source": [
        ""
      ],
      "metadata": {
        "id": "h0729yl5oj0T"
      },
      "id": "h0729yl5oj0T"
    },
    {
      "cell_type": "code",
      "execution_count": 10,
      "id": "f153853d",
      "metadata": {
        "id": "f153853d"
      },
      "outputs": [],
      "source": [
        "import numpy as np\n",
        "import pandas as pd\n",
        "from scipy.sparse import csr_matrix\n",
        "from sklearn.decomposition import TruncatedSVD\n",
        "import numpy.linalg as LA"
      ]
    },
    {
      "cell_type": "code",
      "execution_count": 11,
      "id": "41ac6337",
      "metadata": {
        "id": "41ac6337"
      },
      "outputs": [],
      "source": [
        "# Config Generation Sample Code.\n",
        "# ⚠️ Only for experimentation on your side.\n",
        "# ⚠️ Should be commented during submission.\n",
        "\n",
        "# df = pd.DataFrame(data=[{'id':276633,\n",
        "#                   'k':5,\n",
        "#                   'dataset_file':'./Behance_appreciate_1M',\n",
        "#                   'output_file':'./output.txt'}])\n",
        "# df.to_csv('config.csv')"
      ]
    },
    {
      "cell_type": "code",
      "execution_count": 12,
      "id": "7af3e999",
      "metadata": {
        "id": "7af3e999"
      },
      "outputs": [],
      "source": [
        "config = pd.read_csv('config.csv').iloc[0]"
      ]
    },
    {
      "cell_type": "code",
      "execution_count": 13,
      "id": "829d0147",
      "metadata": {
        "colab": {
          "base_uri": "https://localhost:8080/"
        },
        "id": "829d0147",
        "outputId": "64279b92-711f-46e2-afad-38a8ebb32b11"
      },
      "outputs": [
        {
          "output_type": "execute_result",
          "data": {
            "text/plain": [
              "Unnamed: 0                            0\n",
              "id                               276633\n",
              "k                                     5\n",
              "dataset_file    ./Behance_appreciate_1M\n",
              "output_file                ./output.txt\n",
              "Name: 0, dtype: object"
            ]
          },
          "metadata": {},
          "execution_count": 13
        }
      ],
      "source": [
        "config"
      ]
    },
    {
      "cell_type": "code",
      "execution_count": 14,
      "id": "f4d09c27",
      "metadata": {
        "id": "f4d09c27"
      },
      "outputs": [],
      "source": [
        "user = config['id']\n",
        "k_value = config['k']"
      ]
    },
    {
      "cell_type": "markdown",
      "id": "10935090",
      "metadata": {
        "id": "10935090"
      },
      "source": [
        "### Read the Data"
      ]
    },
    {
      "cell_type": "code",
      "execution_count": 15,
      "id": "5bbba85a",
      "metadata": {
        "id": "5bbba85a"
      },
      "outputs": [],
      "source": [
        "with open(config['dataset_file'], 'r') as inFile:\n",
        "    appreciate_data = inFile.readlines()"
      ]
    },
    {
      "cell_type": "code",
      "execution_count": 16,
      "id": "c0266e01",
      "metadata": {
        "id": "c0266e01"
      },
      "outputs": [],
      "source": [
        "# your code here"
      ]
    },
    {
      "cell_type": "markdown",
      "id": "99512e25",
      "metadata": {
        "id": "99512e25"
      },
      "source": [
        "### Initialize a dictionary to store the item_ids that a user likes\n",
        "\n",
        "### Go through each line of the input file and construct the user_likes dictionary"
      ]
    },
    {
      "cell_type": "code",
      "execution_count": 17,
      "id": "1d3d9be5",
      "metadata": {
        "id": "1d3d9be5"
      },
      "outputs": [],
      "source": [
        "user_likes = dict()\n",
        "dis_image=set()"
      ]
    },
    {
      "cell_type": "code",
      "execution_count": 18,
      "id": "80a539f1",
      "metadata": {
        "id": "80a539f1"
      },
      "outputs": [],
      "source": [
        "for line in appreciate_data:\n",
        "    line = line.strip()\n",
        "    \n",
        "    user_id = int(line.split()[0])\n",
        "    item_id = int(line.split()[1])\n",
        "\n",
        "    if user_id not in user_likes:\n",
        "        user_likes[user_id] = list()\n",
        "    \n",
        "    user_likes[user_id].append(item_id)\n",
        "    dis_image.add(item_id)"
      ]
    },
    {
      "cell_type": "code",
      "source": [
        "len(user_likes)"
      ],
      "metadata": {
        "colab": {
          "base_uri": "https://localhost:8080/"
        },
        "id": "a6XzX8Yt2PnL",
        "outputId": "45a4c96f-dcec-4749-e183-42f26679cf7c"
      },
      "id": "a6XzX8Yt2PnL",
      "execution_count": 19,
      "outputs": [
        {
          "output_type": "execute_result",
          "data": {
            "text/plain": [
              "63497"
            ]
          },
          "metadata": {},
          "execution_count": 19
        }
      ]
    },
    {
      "cell_type": "code",
      "execution_count": 20,
      "id": "898a97a3",
      "metadata": {
        "id": "898a97a3"
      },
      "outputs": [],
      "source": [
        "sp_matrix=np.zeros((len(user_likes),len(dis_image)),dtype=np.int8)"
      ]
    },
    {
      "cell_type": "code",
      "source": [
        "sp_matrix.shape"
      ],
      "metadata": {
        "colab": {
          "base_uri": "https://localhost:8080/"
        },
        "id": "uh_LKcqUHQuo",
        "outputId": "22a7f476-4793-4550-ea37-4cda1c92fa59"
      },
      "id": "uh_LKcqUHQuo",
      "execution_count": 21,
      "outputs": [
        {
          "output_type": "execute_result",
          "data": {
            "text/plain": [
              "(63497, 178788)"
            ]
          },
          "metadata": {},
          "execution_count": 21
        }
      ]
    },
    {
      "cell_type": "code",
      "source": [
        "user_index=dict()\n",
        "image_index=dict()\n",
        "count=0\n",
        "for u in user_likes.keys():\n",
        "  user_index[u]=count\n",
        "  count+=1\n",
        "count=0\n",
        "for image in dis_image:\n",
        "  image_index[image]=count\n",
        "  count+=1\n"
      ],
      "metadata": {
        "id": "FZwy0AmIG8or"
      },
      "id": "FZwy0AmIG8or",
      "execution_count": 22,
      "outputs": []
    },
    {
      "cell_type": "code",
      "source": [
        "row=list()\n",
        "colunm=list()\n",
        "data=list()"
      ],
      "metadata": {
        "id": "Ky4Mfhu9K-RT"
      },
      "id": "Ky4Mfhu9K-RT",
      "execution_count": 23,
      "outputs": []
    },
    {
      "cell_type": "code",
      "source": [
        "for u,images in user_likes.items():\n",
        "  for image in images:\n",
        "    data.append(1)\n",
        "    row.append(user_index[u])\n",
        "    colunm.append(image_index[image])"
      ],
      "metadata": {
        "id": "qGeZ2NQOIHz1"
      },
      "id": "qGeZ2NQOIHz1",
      "execution_count": 24,
      "outputs": []
    },
    {
      "cell_type": "code",
      "source": [
        ""
      ],
      "metadata": {
        "id": "en5aI0UMK_uP"
      },
      "id": "en5aI0UMK_uP",
      "execution_count": 24,
      "outputs": []
    },
    {
      "cell_type": "code",
      "source": [
        "sp_matrix=csr_matrix((data,(row,colunm)))"
      ],
      "metadata": {
        "id": "Ymzdl4n3IAz0"
      },
      "id": "Ymzdl4n3IAz0",
      "execution_count": 25,
      "outputs": []
    },
    {
      "cell_type": "code",
      "source": [
        "sp_matrix.shape"
      ],
      "metadata": {
        "colab": {
          "base_uri": "https://localhost:8080/"
        },
        "id": "y-zeCsE71k1I",
        "outputId": "1e4eab67-03e3-4be3-fcc4-5adcb80adb81"
      },
      "id": "y-zeCsE71k1I",
      "execution_count": 26,
      "outputs": [
        {
          "output_type": "execute_result",
          "data": {
            "text/plain": [
              "(63497, 178788)"
            ]
          },
          "metadata": {},
          "execution_count": 26
        }
      ]
    },
    {
      "cell_type": "code",
      "source": [
        ""
      ],
      "metadata": {
        "id": "KMsLuJqo1lMM"
      },
      "id": "KMsLuJqo1lMM",
      "execution_count": 26,
      "outputs": []
    },
    {
      "cell_type": "code",
      "source": [
        "svd = TruncatedSVD(n_components=1000, random_state=22)\n"
      ],
      "metadata": {
        "id": "7qJprJ1FJMFs"
      },
      "id": "7qJprJ1FJMFs",
      "execution_count": 27,
      "outputs": []
    },
    {
      "cell_type": "code",
      "source": [
        "sp_matrix=svd.fit_transform(sp_matrix)"
      ],
      "metadata": {
        "id": "5Vf97v3ONV5g"
      },
      "id": "5Vf97v3ONV5g",
      "execution_count": 28,
      "outputs": []
    },
    {
      "cell_type": "code",
      "source": [
        "sp_matrix"
      ],
      "metadata": {
        "colab": {
          "base_uri": "https://localhost:8080/"
        },
        "id": "0xyVARPRN2XL",
        "outputId": "306d3b24-adea-43ca-c140-c918b5c12011"
      },
      "id": "0xyVARPRN2XL",
      "execution_count": 29,
      "outputs": [
        {
          "output_type": "execute_result",
          "data": {
            "text/plain": [
              "array([[ 1.96726824e+00,  9.11994141e-01,  5.44346433e-01, ...,\n",
              "        -4.46532705e-01, -3.28913900e-01, -2.77623744e-01],\n",
              "       [ 1.37385233e+01, -2.98822497e+00,  5.37449163e+00, ...,\n",
              "         1.61696718e-01,  9.99176702e-04,  3.03056155e-01],\n",
              "       [ 4.80799880e-01,  1.93681780e-01,  1.70789050e-01, ...,\n",
              "        -1.58394434e-01, -2.90307222e-01,  1.01585216e-01],\n",
              "       ...,\n",
              "       [ 3.27848620e-02,  3.21566830e-02, -2.08325872e-02, ...,\n",
              "        -8.52303324e-03, -9.88617718e-03, -1.83948522e-02],\n",
              "       [ 3.43684984e-04, -6.94795553e-04,  9.35302334e-04, ...,\n",
              "         2.99442388e-02, -3.48051656e-03, -2.16404347e-03],\n",
              "       [ 5.85482350e-02, -3.28784637e-02, -6.13980403e-02, ...,\n",
              "        -1.27816469e-02,  8.51654384e-03, -5.02181572e-03]])"
            ]
          },
          "metadata": {},
          "execution_count": 29
        }
      ]
    },
    {
      "cell_type": "code",
      "source": [
        "cosine = lambda a,b: np.dot(a,b)/(LA.norm(a) * LA.norm(b))"
      ],
      "metadata": {
        "id": "troD_U6TlHBy"
      },
      "id": "troD_U6TlHBy",
      "execution_count": 30,
      "outputs": []
    },
    {
      "cell_type": "code",
      "source": [
        "index_user=dict()\n",
        "for u,i in user_index.items():\n",
        "  index_user[i]=u"
      ],
      "metadata": {
        "id": "obseokYjmUYV"
      },
      "id": "obseokYjmUYV",
      "execution_count": 31,
      "outputs": []
    },
    {
      "cell_type": "code",
      "source": [
        "def is_subset(recom,user_list):\n",
        "  return len(recom) == len(set(recom) & set(user_list))"
      ],
      "metadata": {
        "id": "CUOCwJt2loSs"
      },
      "id": "CUOCwJt2loSs",
      "execution_count": 32,
      "outputs": []
    },
    {
      "cell_type": "markdown",
      "id": "9e199965",
      "metadata": {
        "id": "9e199965"
      },
      "source": [
        "### Use KNN after Collaborative Filtering to find nearest neighbors"
      ]
    },
    {
      "cell_type": "code",
      "execution_count": 33,
      "id": "2117df52",
      "metadata": {
        "id": "2117df52"
      },
      "outputs": [],
      "source": [
        "def neighbors(user,k_value):\n",
        "  ans=list()\n",
        "  for i in range(len(sp_matrix)):\n",
        "    if i == user_index[user]:\n",
        "      continue\n",
        "    sim = cosine(sp_matrix[i],sp_matrix[user_index[user]])\n",
        "    ans.append((sim,index_user[i]))\n",
        "  ans.sort(reverse=True)\n",
        "  temp=[x[1] for x in ans]\n",
        "\n",
        "  # print(ans[:k_value])\n",
        "  return temp"
      ]
    },
    {
      "cell_type": "markdown",
      "id": "892c395b",
      "metadata": {
        "id": "892c395b"
      },
      "source": [
        "### Open the output file to write all the lines to the file"
      ]
    },
    {
      "cell_type": "code",
      "execution_count": 34,
      "id": "428708d5",
      "metadata": {
        "id": "428708d5",
        "colab": {
          "base_uri": "https://localhost:8080/"
        },
        "outputId": "69bd82fc-ff8f-458f-877d-a25f007078b3"
      },
      "outputs": [
        {
          "output_type": "stream",
          "name": "stdout",
          "text": [
            "1480429\n",
            "2452817\n",
            "2539765\n",
            "148706\n",
            "1525134\n"
          ]
        }
      ],
      "source": [
        "outFile = open(config['output_file'], 'w')\n",
        "ans = neighbors(user,k_value)\n",
        "count=0\n",
        "for n_user in ans:\n",
        "    # user_id = list(user_likes.keys())[n_user]\n",
        "    user_id=n_user\n",
        "    if count == k_value:\n",
        "      break\n",
        "    if is_subset(user_likes[n_user],user_likes[user]):\n",
        "      continue\n",
        "    print(n_user)\n",
        "    count+=1\n",
        "    for item_id in user_likes[user_id]:\n",
        "      if item_id not in user_likes[user]:\n",
        "        outFile.write(str(item_id) + ' ' + str(user_id) + '\\n')\n",
        "\n",
        "outFile.close()"
      ]
    },
    {
      "cell_type": "code",
      "source": [
        "# print(neighbors(user,k_value))"
      ],
      "metadata": {
        "id": "8EX4pVLRny6q"
      },
      "id": "8EX4pVLRny6q",
      "execution_count": 35,
      "outputs": []
    },
    {
      "cell_type": "code",
      "source": [
        "# def neighbors1(user,k_value):\n",
        "#     \"\"\" returns an iterable object (like list or generator) \"\"\"\n",
        "#     ans=[]\n",
        "#     for users,key in user_likes.items():\n",
        "#       if user != users:\n",
        "#         inter=len(list(set(key) & set(user_likes[user])))\n",
        "#         # temp=set(key) & set(user_likes[user])\n",
        "#         # inter=len(list(temp))\n",
        "#         union= len(key) + len(user_likes[user]) - inter\n",
        "#         # user_likes[users]=list(set(user_likes[user]) - temp)\n",
        "#         ans.append((inter/union,users))\n",
        "\n",
        "#     ans.sort(reverse=True)\n",
        "#     print(ans[:k_value])\n",
        "#     return [x[1] for x in ans[:k_value]]\n",
        "  \n",
        "# print(neighbors1(user,k_value))"
      ],
      "metadata": {
        "colab": {
          "base_uri": "https://localhost:8080/"
        },
        "id": "uiRDQk-HUHgu",
        "outputId": "9d65fe12-6db6-4ca9-ea54-31ad70bfb424"
      },
      "id": "uiRDQk-HUHgu",
      "execution_count": 37,
      "outputs": [
        {
          "output_type": "stream",
          "name": "stdout",
          "text": [
            "[(0.07142857142857142, 2452817), (0.057692307692307696, 1480429), (0.052083333333333336, 3230001), (0.050505050505050504, 3138371), (0.048672566371681415, 843447)]\n",
            "[2452817, 1480429, 3230001, 3138371, 843447]\n"
          ]
        }
      ]
    }
  ],
  "metadata": {
    "kernelspec": {
      "display_name": "Python 3 (ipykernel)",
      "language": "python",
      "name": "python3"
    },
    "language_info": {
      "codemirror_mode": {
        "name": "ipython",
        "version": 3
      },
      "file_extension": ".py",
      "mimetype": "text/x-python",
      "name": "python",
      "nbconvert_exporter": "python",
      "pygments_lexer": "ipython3",
      "version": "3.9.7"
    },
    "colab": {
      "name": "2021201046_Assignment1_Question1.ipynb",
      "provenance": [],
      "collapsed_sections": []
    }
  },
  "nbformat": 4,
  "nbformat_minor": 5
}